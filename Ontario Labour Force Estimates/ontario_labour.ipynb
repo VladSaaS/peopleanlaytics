{
 "cells": [
  {
   "cell_type": "markdown",
   "metadata": {},
   "source": [
    "# Analyzing the Ontario Labour Force Estimates\n",
    "\n",
    "dataset info:\n",
    "\n",
    "Title: Labour force estimates by occupation\n",
    "\n",
    "Dataset Source: Ontario Data Catalogue\n",
    "\n",
    "Dataset URL: https://data.ontario.ca/dataset/labour-force-estimates-by-occupation\n",
    "\n",
    "Date Accessed: October 17, 2023\n"
   ]
  },
  {
   "cell_type": "code",
   "execution_count": 1,
   "metadata": {},
   "outputs": [],
   "source": [
    "# Importing py libraries\n",
    "\n",
    "import pandas as pd\n",
    "import matplotlib.pyplot as plt\n"
   ]
  },
  {
   "cell_type": "code",
   "execution_count": 2,
   "metadata": {},
   "outputs": [],
   "source": [
    "# Loading dataset into a py dataframe\n",
    "\n",
    "df = pd.read_csv('mltsd_v0906_18_tab4qq.csv')"
   ]
  }
 ],
 "metadata": {
  "kernelspec": {
   "display_name": "Python 3",
   "language": "python",
   "name": "python3"
  },
  "language_info": {
   "codemirror_mode": {
    "name": "ipython",
    "version": 3
   },
   "file_extension": ".py",
   "mimetype": "text/x-python",
   "name": "python",
   "nbconvert_exporter": "python",
   "pygments_lexer": "ipython3",
   "version": "3.11.4"
  }
 },
 "nbformat": 4,
 "nbformat_minor": 2
}
