{
 "cells": [
  {
   "cell_type": "markdown",
   "metadata": {},
   "source": [
    "# Analyzing the Ontario Labour Force Estimates\n",
    "\n",
    "dataset info:\n",
    "\n",
    "Title: Labour force estimates by occupation\n",
    "\n",
    "Dataset Source: Ontario Data Catalogue\n",
    "\n",
    "Dataset URL: https://data.ontario.ca/dataset/labour-force-estimates-by-occupation\n",
    "\n",
    "Date Accessed: October 17, 2023\n"
   ]
  }
 ],
 "metadata": {
  "language_info": {
   "name": "python"
  }
 },
 "nbformat": 4,
 "nbformat_minor": 2
}
