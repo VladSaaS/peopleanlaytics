{
 "cells": [
  {
   "cell_type": "markdown",
   "metadata": {},
   "source": [
    "# Analyzing the Ontario Labour Force Estimates\n",
    "\n",
    "dataset info:\n",
    "\n",
    "Title: Labour force estimates by occupation\n",
    "\n",
    "Dataset Source: Ontario Data Catalogue\n",
    "\n",
    "Dataset URL: https://data.ontario.ca/dataset/labour-force-estimates-by-occupation\n",
    "\n",
    "Date Accessed: October 17, 2023\n"
   ]
  },
  {
   "cell_type": "code",
   "execution_count": 1,
   "metadata": {},
   "outputs": [],
   "source": [
    "# Importing py libraries\n",
    "\n",
    "import pandas as pd\n",
    "import matplotlib.pyplot as plt\n"
   ]
  },
  {
   "cell_type": "code",
   "execution_count": 2,
   "metadata": {},
   "outputs": [],
   "source": [
    "# Loading dataset into a py dataframe\n",
    "\n",
    "df = pd.read_csv('mltsd_v0906_18_tab4qq.csv')"
   ]
  },
  {
   "cell_type": "code",
   "execution_count": 3,
   "metadata": {},
   "outputs": [
    {
     "name": "stdout",
     "output_type": "stream",
     "text": [
      "     MONTH               GEOGRAPHY     LFS CHARCT.              Occupation  \\\n",
      "0  Mar2001  Total, Ontario regions    Labour force  Total, all occupations   \n",
      "1  Mar2001  Total, Ontario regions    Labour force  Total, all occupations   \n",
      "2  Mar2001  Total, Ontario regions    Labour force  Total, all occupations   \n",
      "3  Mar2001  Total, Ontario regions    Labour force  Total, all occupations   \n",
      "4  Mar2001  Total, Ontario regions    Labour force  Total, all occupations   \n",
      "\n",
      "                  AGE GROUP Both sexes    Male  Female  \n",
      "0  Total, 15 years and over     6189.5  3303.2  2886.3  \n",
      "1               15-64 years     6101.8  3244.9  2856.9  \n",
      "2                     15-19      404.6   200.4   204.2  \n",
      "3                     20-24      552.5   286.7   265.8  \n",
      "4                     25-44     3221.4  1713.8  1507.6  \n",
      "<class 'pandas.core.frame.DataFrame'>\n",
      "RangeIndex: 657280 entries, 0 to 657279\n",
      "Data columns (total 8 columns):\n",
      " #   Column       Non-Null Count   Dtype \n",
      "---  ------       --------------   ----- \n",
      " 0   MONTH        657280 non-null  object\n",
      " 1   GEOGRAPHY    657280 non-null  object\n",
      " 2   LFS CHARCT.  657280 non-null  object\n",
      " 3   Occupation   657280 non-null  object\n",
      " 4   AGE GROUP    657280 non-null  object\n",
      " 5   Both sexes   657280 non-null  object\n",
      " 6   Male         657280 non-null  object\n",
      " 7   Female       657280 non-null  object\n",
      "dtypes: object(8)\n",
      "memory usage: 40.1+ MB\n",
      "None\n",
      "          MONTH               GEOGRAPHY     LFS CHARCT.  \\\n",
      "count    657280                  657280          657280   \n",
      "unique       79                       5               4   \n",
      "top     Mar2001  Total, Ontario regions    Labour force   \n",
      "freq       8320                  131456          164320   \n",
      "\n",
      "                    Occupation                 AGE GROUP Both sexes    Male  \\\n",
      "count                   657280                    657280     657280  657280   \n",
      "unique                      52                         8       9192    6486   \n",
      "top     Total, all occupations  Total, 15 years and over        0.0     0.0   \n",
      "freq                     12640                     82160     285959  326402   \n",
      "\n",
      "        Female  \n",
      "count   657280  \n",
      "unique    6334  \n",
      "top        0.0  \n",
      "freq    331442  \n",
      "MONTH          0\n",
      "GEOGRAPHY      0\n",
      "LFS CHARCT.    0\n",
      "Occupation     0\n",
      "AGE GROUP      0\n",
      "Both sexes     0\n",
      "Male           0\n",
      "Female         0\n",
      "dtype: int64\n"
     ]
    }
   ],
   "source": [
    "# Exploratory Data Analysis\n",
    "print(df.head())\n",
    "print(df.info())\n",
    "print(df.describe())\n",
    "print(df.isnull().sum())"
   ]
  }
 ],
 "metadata": {
  "kernelspec": {
   "display_name": "Python 3",
   "language": "python",
   "name": "python3"
  },
  "language_info": {
   "codemirror_mode": {
    "name": "ipython",
    "version": 3
   },
   "file_extension": ".py",
   "mimetype": "text/x-python",
   "name": "python",
   "nbconvert_exporter": "python",
   "pygments_lexer": "ipython3",
   "version": "3.11.4"
  }
 },
 "nbformat": 4,
 "nbformat_minor": 2
}
