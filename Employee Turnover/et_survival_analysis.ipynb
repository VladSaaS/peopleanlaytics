{
 "cells": [
  {
   "cell_type": "markdown",
   "metadata": {},
   "source": [
    "# Survival Analysis on Employee Turnover data - DRAFT\n",
    "dataset info:\n",
    "\n",
    "Title: Employee Turnover Dataset\n",
    "\n",
    "Dataset Author: Davin Wijaya\n",
    "\n",
    "Dataset Source: Kaggle\n",
    "\n",
    "Dataset URL: https://www.kaggle.com/datasets/davinwijaya/employee-turnover\n",
    "\n",
    "Date Accessed: September 28, 2023"
   ]
  },
  {
   "cell_type": "code",
   "execution_count": 7,
   "metadata": {},
   "outputs": [],
   "source": [
    "#importing python libraries\n",
    "import numpy as np\n",
    "import pandas as pd\n",
    "import matplotlib.pyplot as plt\n",
    "import chardet"
   ]
  },
  {
   "cell_type": "code",
   "execution_count": 8,
   "metadata": {},
   "outputs": [],
   "source": [
    "#creating our dataframe using our csv document\n",
    "with open('turnover.csv', 'rb') as f:\n",
    "    result = chardet.detect(f.read())\n",
    "df = pd.read_csv('turnover.csv', encoding=result['encoding'])"
   ]
  },
  {
   "cell_type": "code",
   "execution_count": 9,
   "metadata": {},
   "outputs": [
    {
     "name": "stdout",
     "output_type": "stream",
     "text": [
      "        stag  event gender   age         industry  profession      traffic  \\\n",
      "0   7.030801      1      m  35.0            Banks          HR  rabrecNErab   \n",
      "1  22.965092      1      m  33.0            Banks          HR        empjs   \n",
      "2  15.934292      1      f  35.0  PowerGeneration          HR  rabrecNErab   \n",
      "3  15.934292      1      f  35.0  PowerGeneration          HR  rabrecNErab   \n",
      "4   8.410678      1      m  32.0           Retail  Commercial        youjs   \n",
      "\n",
      "  coach head_gender greywage  way  extraversion  independ  selfcontrol  \\\n",
      "0    no           f    white  bus           6.2       4.1          5.7   \n",
      "1    no           m    white  bus           6.2       4.1          5.7   \n",
      "2    no           m    white  bus           6.2       6.2          2.6   \n",
      "3    no           m    white  bus           5.4       7.6          4.9   \n",
      "4   yes           f    white  bus           3.0       4.1          8.0   \n",
      "\n",
      "   anxiety  novator  \n",
      "0      7.1      8.3  \n",
      "1      7.1      8.3  \n",
      "2      4.8      8.3  \n",
      "3      2.5      6.7  \n",
      "4      7.1      3.7  \n",
      "<class 'pandas.core.frame.DataFrame'>\n",
      "RangeIndex: 1129 entries, 0 to 1128\n",
      "Data columns (total 16 columns):\n",
      " #   Column        Non-Null Count  Dtype  \n",
      "---  ------        --------------  -----  \n",
      " 0   stag          1129 non-null   float64\n",
      " 1   event         1129 non-null   int64  \n",
      " 2   gender        1129 non-null   object \n",
      " 3   age           1129 non-null   float64\n",
      " 4   industry      1129 non-null   object \n",
      " 5   profession    1129 non-null   object \n",
      " 6   traffic       1129 non-null   object \n",
      " 7   coach         1129 non-null   object \n",
      " 8   head_gender   1129 non-null   object \n",
      " 9   greywage      1129 non-null   object \n",
      " 10  way           1129 non-null   object \n",
      " 11  extraversion  1129 non-null   float64\n",
      " 12  independ      1129 non-null   float64\n",
      " 13  selfcontrol   1129 non-null   float64\n",
      " 14  anxiety       1129 non-null   float64\n",
      " 15  novator       1129 non-null   float64\n",
      "dtypes: float64(7), int64(1), object(8)\n",
      "memory usage: 141.3+ KB\n",
      "None\n",
      "              stag        event          age  extraversion     independ  \\\n",
      "count  1129.000000  1129.000000  1129.000000   1129.000000  1129.000000   \n",
      "mean     36.627526     0.505757    31.066965      5.592383     5.478034   \n",
      "std      34.096597     0.500188     6.996147      1.851637     1.703312   \n",
      "min       0.394251     0.000000    18.000000      1.000000     1.000000   \n",
      "25%      11.728953     0.000000    26.000000      4.600000     4.100000   \n",
      "50%      24.344969     1.000000    30.000000      5.400000     5.500000   \n",
      "75%      51.318275     1.000000    36.000000      7.000000     6.900000   \n",
      "max     179.449692     1.000000    58.000000     10.000000    10.000000   \n",
      "\n",
      "       selfcontrol      anxiety      novator  \n",
      "count  1129.000000  1129.000000  1129.000000  \n",
      "mean      5.597254     5.665633     5.879628  \n",
      "std       1.980101     1.709176     1.904016  \n",
      "min       1.000000     1.700000     1.000000  \n",
      "25%       4.100000     4.800000     4.400000  \n",
      "50%       5.700000     5.600000     6.000000  \n",
      "75%       7.200000     7.100000     7.500000  \n",
      "max      10.000000    10.000000    10.000000  \n",
      "stag            0\n",
      "event           0\n",
      "gender          0\n",
      "age             0\n",
      "industry        0\n",
      "profession      0\n",
      "traffic         0\n",
      "coach           0\n",
      "head_gender     0\n",
      "greywage        0\n",
      "way             0\n",
      "extraversion    0\n",
      "independ        0\n",
      "selfcontrol     0\n",
      "anxiety         0\n",
      "novator         0\n",
      "dtype: int64\n"
     ]
    }
   ],
   "source": [
    "#initial exploratory data analysis\n",
    "print(df.head())\n",
    "print(df.info())\n",
    "print(df.describe())\n",
    "print(df.isnull().sum())\n"
   ]
  }
 ],
 "metadata": {
  "kernelspec": {
   "display_name": "Python 3",
   "language": "python",
   "name": "python3"
  },
  "language_info": {
   "codemirror_mode": {
    "name": "ipython",
    "version": 3
   },
   "file_extension": ".py",
   "mimetype": "text/x-python",
   "name": "python",
   "nbconvert_exporter": "python",
   "pygments_lexer": "ipython3",
   "version": "3.11.4"
  },
  "orig_nbformat": 4
 },
 "nbformat": 4,
 "nbformat_minor": 2
}
