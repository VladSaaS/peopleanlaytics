{
 "cells": [
  {
   "cell_type": "markdown",
   "metadata": {},
   "source": [
    "# Survival Analysis on Employee Turnover data\n",
    "dataset info:\n",
    "\n",
    "Title: Employee Turnover Dataset\n",
    "\n",
    "Dataset Author: Davin Wijaya\n",
    "\n",
    "Dataset Source: Kaggle\n",
    "\n",
    "Dataset URL: https://www.kaggle.com/datasets/davinwijaya/employee-turnover\n",
    "\n",
    "Date Accessed: September 28, 2023"
   ]
  }
 ],
 "metadata": {
  "language_info": {
   "name": "python"
  },
  "orig_nbformat": 4
 },
 "nbformat": 4,
 "nbformat_minor": 2
}
