{
 "cells": [
  {
   "cell_type": "markdown",
   "metadata": {},
   "source": [
    "# Analysis of Ontario's Unemployment Duration\n",
    "\n",
    "Dataset Title: Duration of unemployment\n",
    "\n",
    "Dataset Source: Ontario Data Catalogue\n",
    "\n",
    "Dataset URL: https://data.ontario.ca/dataset/duration-of-unemployment/resource/8f786bb5-01ac-4e7d-b89f-3437a601941b\n",
    "\n",
    "Data Accessed: October 19, 2023"
   ]
  },
  {
   "cell_type": "code",
   "execution_count": 1,
   "metadata": {},
   "outputs": [],
   "source": [
    "# Importing py libraries\n",
    "\n",
    "import pandas as pd\n",
    "import matplotlib.pyplot as plt\n",
    "import seaborn as sns"
   ]
  },
  {
   "cell_type": "code",
   "execution_count": 2,
   "metadata": {},
   "outputs": [],
   "source": [
    "# Loading dataset into a py dataframe\n",
    "\n",
    "df = pd.read_csv('mltsd_v0906_18_tab2qq.csv')"
   ]
  },
  {
   "cell_type": "code",
   "execution_count": 3,
   "metadata": {},
   "outputs": [
    {
     "name": "stdout",
     "output_type": "stream",
     "text": [
      "     MONTH               GEOGRAPHY          DURATION  \\\n",
      "0  Mar2001  Total, Ontario regions  Total unemployed   \n",
      "1  Mar2001  Total, Ontario regions  Total unemployed   \n",
      "2  Mar2001  Total, Ontario regions  Total unemployed   \n",
      "3  Mar2001  Total, Ontario regions  Total unemployed   \n",
      "4  Mar2001  Total, Ontario regions  Total unemployed   \n",
      "\n",
      "                  AGE GROUP  Both sexes   Male  Female  \n",
      "0  Total, 15 years and over       398.0  229.0   169.0  \n",
      "1               15-64 years       395.8  228.0   167.9  \n",
      "2                     15-19        67.5   39.3    28.1  \n",
      "3                     20-24        53.9   36.2    17.7  \n",
      "4                     25-44       184.4  101.7    82.7  \n",
      "<class 'pandas.core.frame.DataFrame'>\n",
      "RangeIndex: 37920 entries, 0 to 37919\n",
      "Data columns (total 7 columns):\n",
      " #   Column      Non-Null Count  Dtype  \n",
      "---  ------      --------------  -----  \n",
      " 0   MONTH       37920 non-null  object \n",
      " 1   GEOGRAPHY   37920 non-null  object \n",
      " 2   DURATION    37920 non-null  object \n",
      " 3   AGE GROUP   37920 non-null  object \n",
      " 4   Both sexes  37920 non-null  float64\n",
      " 5   Male        37920 non-null  float64\n",
      " 6   Female      37920 non-null  float64\n",
      "dtypes: float64(3), object(4)\n",
      "memory usage: 2.0+ MB\n",
      "None\n",
      "         Both sexes          Male        Female\n",
      "count  37920.000000  37920.000000  37920.000000\n",
      "mean      16.590506     10.509818      8.807624\n",
      "std       44.279569     24.544722     21.445969\n",
      "min        0.000000      0.000000      0.000000\n",
      "25%        0.000000      0.000000      0.000000\n",
      "50%        4.600000      2.600000      1.900000\n",
      "75%       16.700000     13.100000     10.900000\n",
      "max      940.200000    468.000000    708.000000\n",
      "MONTH         0\n",
      "GEOGRAPHY     0\n",
      "DURATION      0\n",
      "AGE GROUP     0\n",
      "Both sexes    0\n",
      "Male          0\n",
      "Female        0\n",
      "dtype: int64\n"
     ]
    }
   ],
   "source": [
    "# Exploratory Data Analysis\n",
    "\n",
    "print(df.head())\n",
    "print(df.info())\n",
    "print(df.describe())\n",
    "print(df.isnull().sum())"
   ]
  }
 ],
 "metadata": {
  "kernelspec": {
   "display_name": "Python 3",
   "language": "python",
   "name": "python3"
  },
  "language_info": {
   "codemirror_mode": {
    "name": "ipython",
    "version": 3
   },
   "file_extension": ".py",
   "mimetype": "text/x-python",
   "name": "python",
   "nbconvert_exporter": "python",
   "pygments_lexer": "ipython3",
   "version": "3.11.4"
  }
 },
 "nbformat": 4,
 "nbformat_minor": 2
}
