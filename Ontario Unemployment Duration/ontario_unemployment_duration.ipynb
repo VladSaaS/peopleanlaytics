{
 "cells": [
  {
   "cell_type": "markdown",
   "metadata": {},
   "source": [
    "# Analysis of Ontario's Unemployment Duration\n",
    "\n",
    "Dataset Title: Duration of unemployment\n",
    "\n",
    "Dataset Source: Ontario Data Catalogue\n",
    "\n",
    "Dataset URL: https://data.ontario.ca/dataset/duration-of-unemployment/resource/8f786bb5-01ac-4e7d-b89f-3437a601941b\n",
    "\n",
    "Data Accessed: October 19, 2023"
   ]
  },
  {
   "cell_type": "code",
   "execution_count": 1,
   "metadata": {},
   "outputs": [],
   "source": [
    "# Importing py libraries\n",
    "\n",
    "import pandas as pd\n",
    "import matplotlib.pyplot as plt\n",
    "import seaborn as sns"
   ]
  },
  {
   "cell_type": "code",
   "execution_count": 2,
   "metadata": {},
   "outputs": [],
   "source": [
    "# Loading dataset into a py dataframe\n",
    "\n",
    "df = pd.read_csv('mltsd_v0906_18_tab2qq.csv')"
   ]
  }
 ],
 "metadata": {
  "kernelspec": {
   "display_name": "Python 3",
   "language": "python",
   "name": "python3"
  },
  "language_info": {
   "codemirror_mode": {
    "name": "ipython",
    "version": 3
   },
   "file_extension": ".py",
   "mimetype": "text/x-python",
   "name": "python",
   "nbconvert_exporter": "python",
   "pygments_lexer": "ipython3",
   "version": "3.11.4"
  }
 },
 "nbformat": 4,
 "nbformat_minor": 2
}
