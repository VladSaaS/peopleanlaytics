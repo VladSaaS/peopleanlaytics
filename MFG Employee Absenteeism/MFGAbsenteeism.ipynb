{
 "cells": [
  {
   "cell_type": "markdown",
   "metadata": {},
   "source": [
    "# MFG Absenteeism Analysis\n",
    "dataset info:\n",
    "\n",
    "Title: Absenteeism Dataset\n",
    "\n",
    "Dataset Source: Kaggle\n",
    "\n",
    "Dataset URL: https://www.kaggle.com/datasets/HRAnalyticRepository/absenteeism-dataset\n",
    "\n",
    "Date Accessed: October 2, 2023"
   ]
  },
  {
   "cell_type": "code",
   "execution_count": 1,
   "metadata": {},
   "outputs": [],
   "source": [
    "# Importing python libraries\n",
    "import pandas as pd\n",
    "import numpy as np\n",
    "import matplotlib.pyplot as plt\n",
    "import seaborn as sns"
   ]
  },
  {
   "cell_type": "code",
   "execution_count": 2,
   "metadata": {},
   "outputs": [],
   "source": [
    "# Preparing the dataset into a python data frame for processing and analysis\n",
    "df = pd.read_csv('MFGEmployees4.csv')"
   ]
  },
  {
   "cell_type": "code",
   "execution_count": 3,
   "metadata": {},
   "outputs": [
    {
     "name": "stdout",
     "output_type": "stream",
     "text": [
      "   EmployeeNumber    Surname GivenName Gender             City JobTitle  \\\n",
      "0               1  Gutierrez     Molly      F          Burnaby    Baker   \n",
      "1               2   Hardwick   Stephen      M        Courtenay    Baker   \n",
      "2               3    Delgado   Chester      M         Richmond    Baker   \n",
      "3               4      Simon     Irene      F         Victoria    Baker   \n",
      "4               5   Delvalle    Edward      M  New Westminster    Baker   \n",
      "\n",
      "  DepartmentName    StoreLocation Division        Age  LengthService  \\\n",
      "0         Bakery          Burnaby   Stores  32.028816       6.018478   \n",
      "1         Bakery          Nanaimo   Stores  40.320902       5.532445   \n",
      "2         Bakery         Richmond   Stores  48.822047       4.389973   \n",
      "3         Bakery         Victoria   Stores  44.599357       3.081736   \n",
      "4         Bakery  New Westminster   Stores  35.697876       3.619091   \n",
      "\n",
      "   AbsentHours BusinessUnit  \n",
      "0    36.577306       Stores  \n",
      "1    30.165072       Stores  \n",
      "2    83.807798       Stores  \n",
      "3    70.020165       Stores  \n",
      "4     0.000000       Stores  \n",
      "<class 'pandas.core.frame.DataFrame'>\n",
      "RangeIndex: 8336 entries, 0 to 8335\n",
      "Data columns (total 13 columns):\n",
      " #   Column          Non-Null Count  Dtype  \n",
      "---  ------          --------------  -----  \n",
      " 0   EmployeeNumber  8336 non-null   int64  \n",
      " 1   Surname         8336 non-null   object \n",
      " 2   GivenName       8336 non-null   object \n",
      " 3   Gender          8336 non-null   object \n",
      " 4   City            8336 non-null   object \n",
      " 5   JobTitle        8336 non-null   object \n",
      " 6   DepartmentName  8336 non-null   object \n",
      " 7   StoreLocation   8336 non-null   object \n",
      " 8   Division        8336 non-null   object \n",
      " 9   Age             8336 non-null   float64\n",
      " 10  LengthService   8336 non-null   float64\n",
      " 11  AbsentHours     8336 non-null   float64\n",
      " 12  BusinessUnit    8336 non-null   object \n",
      "dtypes: float64(3), int64(1), object(9)\n",
      "memory usage: 846.8+ KB\n",
      "None\n",
      "       EmployeeNumber          Age  LengthService  AbsentHours\n",
      "count     8336.000000  8336.000000    8336.000000  8336.000000\n",
      "mean      4168.500000    42.007086       4.782910    61.283978\n",
      "std       2406.540255     9.939798       2.462990    49.038365\n",
      "min          1.000000     3.504743       0.012098     0.000000\n",
      "25%       2084.750000    35.298748       3.575892    19.127590\n",
      "50%       4168.500000    42.114924       4.600248    56.005808\n",
      "75%       6252.250000    48.666943       5.623922    94.284692\n",
      "max       8336.000000    77.938003      43.735239   272.530123\n",
      "EmployeeNumber    0\n",
      "Surname           0\n",
      "GivenName         0\n",
      "Gender            0\n",
      "City              0\n",
      "JobTitle          0\n",
      "DepartmentName    0\n",
      "StoreLocation     0\n",
      "Division          0\n",
      "Age               0\n",
      "LengthService     0\n",
      "AbsentHours       0\n",
      "BusinessUnit      0\n",
      "dtype: int64\n"
     ]
    }
   ],
   "source": [
    "# Exploratory data analysis\n",
    "print(df.head())\n",
    "print(df.info())\n",
    "print(df.describe())\n",
    "print(df.isnull().sum())"
   ]
  }
 ],
 "metadata": {
  "kernelspec": {
   "display_name": "Python 3",
   "language": "python",
   "name": "python3"
  },
  "language_info": {
   "codemirror_mode": {
    "name": "ipython",
    "version": 3
   },
   "file_extension": ".py",
   "mimetype": "text/x-python",
   "name": "python",
   "nbconvert_exporter": "python",
   "pygments_lexer": "ipython3",
   "version": "3.11.4"
  },
  "orig_nbformat": 4
 },
 "nbformat": 4,
 "nbformat_minor": 2
}
