{
 "cells": [
  {
   "cell_type": "markdown",
   "metadata": {},
   "source": [
    "# Diversity, Equity and Inclusion Analysis\n",
    "dataset info:\n",
    "\n",
    "Title: Human Resources Data Set\n",
    "\n",
    "Dataset Source: Kaggle\n",
    "\n",
    "Dataset URL: https://www.kaggle.com/datasets/rhuebner/human-resources-data-set\n",
    "\n",
    "Date Accessed: October 5, 2023"
   ]
  }
 ],
 "metadata": {
  "language_info": {
   "name": "python"
  }
 },
 "nbformat": 4,
 "nbformat_minor": 2
}
