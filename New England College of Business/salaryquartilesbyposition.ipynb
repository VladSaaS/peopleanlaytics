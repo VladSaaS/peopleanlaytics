{
 "cells": [
  {
   "cell_type": "markdown",
   "metadata": {},
   "source": [
    "# Analysis of the Salary Quartiles by Position\n",
    "dataset info:\n",
    "\n",
    "Title: Human Resources Data Set\n",
    "\n",
    "Dataset Source: Kaggle\n",
    "\n",
    "Dataset URL: https://www.kaggle.com/datasets/rhuebner/human-resources-data-set\n",
    "\n",
    "Date Accessed: October 5, 2023"
   ]
  },
  {
   "cell_type": "code",
   "execution_count": 4,
   "metadata": {},
   "outputs": [],
   "source": [
    "# Importing py libraries\n",
    "\n",
    "import pandas as pd"
   ]
  },
  {
   "cell_type": "code",
   "execution_count": 5,
   "metadata": {},
   "outputs": [],
   "source": [
    "# Loading up the dataset into a py dataframe for analysis\n",
    "\n",
    "df = pd.read_csv('HRDataset_v14.csv')"
   ]
  },
  {
   "cell_type": "code",
   "execution_count": 6,
   "metadata": {},
   "outputs": [
    {
     "name": "stdout",
     "output_type": "stream",
     "text": [
      "                              First Quartile  Median (Second Quartile)  \\\n",
      "Position                                                                 \n",
      "Accountant I                        63001.50                   63003.0   \n",
      "Administrative Assistant            50920.00                   51920.0   \n",
      "Area Sales Manager                  60837.50                   63695.0   \n",
      "BI Developer                        94465.00                   96370.0   \n",
      "BI Director                        110929.00                  110929.0   \n",
      "CIO                                220450.00                  220450.0   \n",
      "Data Analyst                        88559.00                   89883.0   \n",
      "Data Analyst                        88527.00                   88527.0   \n",
      "Data Architect                     150290.00                  150290.0   \n",
      "Database Administrator             105700.00                  110000.0   \n",
      "Director of Operations             170500.00                  170500.0   \n",
      "Director of Sales                  180000.00                  180000.0   \n",
      "Enterprise Architect               103613.00                  103613.0   \n",
      "IT Director                        178000.00                  178000.0   \n",
      "IT Manager - DB                    142939.75                  144959.5   \n",
      "IT Manager - Infra                 157000.00                  157000.0   \n",
      "IT Manager - Support               138888.00                  138888.0   \n",
      "IT Support                          58875.75                   66150.0   \n",
      "Network Engineer                    52599.00                   53366.0   \n",
      "President & CEO                    250000.00                  250000.0   \n",
      "Principal Data Architect           120000.00                  120000.0   \n",
      "Production Manager                  69198.25                   74928.5   \n",
      "Production Technician I             50482.00                   55425.0   \n",
      "Production Technician II            60656.00                   64995.0   \n",
      "Sales Manager                       67364.00                   68999.0   \n",
      "Senior BI Developer                 83243.50                   84903.0   \n",
      "Shared Services Manager             93046.00                   93046.0   \n",
      "Software Engineer                   93090.75                   97470.0   \n",
      "Software Engineering Manager        77692.00                   77692.0   \n",
      "Sr. Accountant                     101105.00                  102859.0   \n",
      "Sr. DBA                            101132.50                  102234.0   \n",
      "Sr. Network Engineer                87565.00                   92329.0   \n",
      "\n",
      "                              Third Quartile  \n",
      "Position                                      \n",
      "Accountant I                        63761.50  \n",
      "Administrative Assistant            53460.00  \n",
      "Area Sales Manager                  70327.50  \n",
      "BI Developer                        97370.00  \n",
      "BI Director                        110929.00  \n",
      "CIO                                220450.00  \n",
      "Data Analyst                        92710.50  \n",
      "Data Analyst                        88527.00  \n",
      "Data Architect                     150290.00  \n",
      "Database Administrator             113999.00  \n",
      "Director of Operations             170500.00  \n",
      "Director of Sales                  180000.00  \n",
      "Enterprise Architect               103613.00  \n",
      "IT Director                        178000.00  \n",
      "IT Manager - DB                    146979.25  \n",
      "IT Manager - Infra                 157000.00  \n",
      "IT Manager - Support               138888.00  \n",
      "IT Support                          69163.75  \n",
      "Network Engineer                    75281.00  \n",
      "President & CEO                    250000.00  \n",
      "Principal Data Architect           120000.00  \n",
      "Production Manager                  82196.50  \n",
      "Production Technician I             61242.00  \n",
      "Production Technician II            68407.00  \n",
      "Sales Manager                       70995.50  \n",
      "Senior BI Developer                 86412.00  \n",
      "Shared Services Manager             93046.00  \n",
      "Software Engineer                  101003.25  \n",
      "Software Engineering Manager        77692.00  \n",
      "Sr. Accountant                     104613.00  \n",
      "Sr. DBA                            103335.50  \n",
      "Sr. Network Engineer                93206.00  \n"
     ]
    }
   ],
   "source": [
    "# Grouping the data by 'Position'\n",
    "position_groups = df.groupby('Position')\n",
    "\n",
    "# Calculateing the first, second (median), and third quartiles for salary within each position group\n",
    "quartiles = position_groups['Salary'].quantile([0.25, 0.5, 0.75])\n",
    "\n",
    "# Renaming the quartile levels for clarity\n",
    "quartiles = quartiles.unstack(level=1)\n",
    "quartiles.columns = ['First Quartile', 'Median (Second Quartile)', 'Third Quartile']\n",
    "\n",
    "# Printing the quartiles for each position\n",
    "print(quartiles)"
   ]
  }
 ],
 "metadata": {
  "kernelspec": {
   "display_name": "Python 3",
   "language": "python",
   "name": "python3"
  },
  "language_info": {
   "codemirror_mode": {
    "name": "ipython",
    "version": 3
   },
   "file_extension": ".py",
   "mimetype": "text/x-python",
   "name": "python",
   "nbconvert_exporter": "python",
   "pygments_lexer": "ipython3",
   "version": "3.11.4"
  }
 },
 "nbformat": 4,
 "nbformat_minor": 2
}
