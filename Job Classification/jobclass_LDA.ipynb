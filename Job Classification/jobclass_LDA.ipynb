{
 "cells": [
  {
   "cell_type": "markdown",
   "metadata": {},
   "source": [
    "# Job Classifications with the Linear Discriminant Analysis (LDA) model\n",
    "dataset info:\n",
    "\n",
    "Title: Job Classification Dataset\n",
    "\n",
    "Dataset Source: HR Analytic Repository on Kaggle\n",
    "\n",
    "Dataset URL: https://www.kaggle.com/datasets/HRAnalyticRepository/job-classification-dataset\n",
    "\n",
    "Date Accessed: September 28, 2023"
   ]
  },
  {
   "cell_type": "code",
   "execution_count": 1,
   "metadata": {},
   "outputs": [],
   "source": [
    "#importing the required libraries to complete the lDA model\n",
    "import numpy as np\n",
    "import pandas as pd\n",
    "import matplotlib.pyplot as plt\n",
    "from sklearn.discriminant_analysis import LinearDiscriminantAnalysis\n",
    "from sklearn.model_selection import train_test_split\n",
    "from sklearn.metrics import mean_absolute_error, mean_squared_error"
   ]
  },
  {
   "cell_type": "code",
   "execution_count": 2,
   "metadata": {},
   "outputs": [],
   "source": [
    "#loading the dataset into a python dataframe\n",
    "df = pd.read_csv('jobclassinfo2.csv')"
   ]
  },
  {
   "cell_type": "code",
   "execution_count": 3,
   "metadata": {},
   "outputs": [
    {
     "name": "stdout",
     "output_type": "stream",
     "text": [
      "   ID  JobFamily    JobFamilyDescription  JobClass JobClassDescription  \\\n",
      "0   1          1  Accounting And Finance         1        Accountant I   \n",
      "1   2          1  Accounting And Finance         2       Accountant II   \n",
      "2   3          1  Accounting And Finance         3      Accountant III   \n",
      "3   4          1  Accounting And Finance         4       Accountant IV   \n",
      "4   5          2  Administrative Support         5     Admin Support I   \n",
      "\n",
      "   PayGrade  EducationLevel  Experience  OrgImpact  ProblemSolving  \\\n",
      "0         5               3           1          3               3   \n",
      "1         6               4           1          5               4   \n",
      "2         8               4           2          6               5   \n",
      "3        10               5           5          6               6   \n",
      "4         1               1           0          1               1   \n",
      "\n",
      "   Supervision  ContactLevel  FinancialBudget    PG  \n",
      "0            4             3                5  PG05  \n",
      "1            5             7                7  PG06  \n",
      "2            6             7               10  PG08  \n",
      "3            7             8               11  PG10  \n",
      "4            1             1                1  PG01  \n",
      "<class 'pandas.core.frame.DataFrame'>\n",
      "RangeIndex: 66 entries, 0 to 65\n",
      "Data columns (total 14 columns):\n",
      " #   Column                Non-Null Count  Dtype \n",
      "---  ------                --------------  ----- \n",
      " 0   ID                    66 non-null     int64 \n",
      " 1   JobFamily             66 non-null     int64 \n",
      " 2   JobFamilyDescription  66 non-null     object\n",
      " 3   JobClass              66 non-null     int64 \n",
      " 4   JobClassDescription   66 non-null     object\n",
      " 5   PayGrade              66 non-null     int64 \n",
      " 6   EducationLevel        66 non-null     int64 \n",
      " 7   Experience            66 non-null     int64 \n",
      " 8   OrgImpact             66 non-null     int64 \n",
      " 9   ProblemSolving        66 non-null     int64 \n",
      " 10  Supervision           66 non-null     int64 \n",
      " 11  ContactLevel          66 non-null     int64 \n",
      " 12  FinancialBudget       66 non-null     int64 \n",
      " 13  PG                    66 non-null     object\n",
      "dtypes: int64(11), object(3)\n",
      "memory usage: 7.3+ KB\n",
      "None\n",
      "              ID  JobFamily   JobClass   PayGrade  EducationLevel  Experience  \\\n",
      "count  66.000000  66.000000  66.000000  66.000000       66.000000   66.000000   \n",
      "mean   33.500000   7.606061  33.500000   5.696970        3.166667    1.757576   \n",
      "std    19.196354   4.209436  19.196354   2.517445        1.525005    2.134411   \n",
      "min     1.000000   1.000000   1.000000   1.000000        1.000000    0.000000   \n",
      "25%    17.250000   4.000000  17.250000   4.000000        2.000000    0.000000   \n",
      "50%    33.500000   7.000000  33.500000   5.000000        4.000000    1.000000   \n",
      "75%    49.750000  11.000000  49.750000   8.000000        4.000000    2.750000   \n",
      "max    66.000000  15.000000  66.000000  10.000000        6.000000   10.000000   \n",
      "\n",
      "       OrgImpact  ProblemSolving  Supervision  ContactLevel  FinancialBudget  \n",
      "count  66.000000       66.000000    66.000000     66.000000        66.000000  \n",
      "mean    3.348485        3.606061     3.863636      4.757576         5.303030  \n",
      "std     1.767157        1.412894     2.104109      2.468638         3.525597  \n",
      "min     1.000000        1.000000     1.000000      1.000000         1.000000  \n",
      "25%     2.000000        3.000000     1.000000      3.000000         2.000000  \n",
      "50%     3.000000        4.000000     4.000000      6.000000         5.000000  \n",
      "75%     4.000000        5.000000     5.750000      7.000000         7.750000  \n",
      "max     6.000000        6.000000     7.000000      8.000000        11.000000  \n",
      "ID                      0\n",
      "JobFamily               0\n",
      "JobFamilyDescription    0\n",
      "JobClass                0\n",
      "JobClassDescription     0\n",
      "PayGrade                0\n",
      "EducationLevel          0\n",
      "Experience              0\n",
      "OrgImpact               0\n",
      "ProblemSolving          0\n",
      "Supervision             0\n",
      "ContactLevel            0\n",
      "FinancialBudget         0\n",
      "PG                      0\n",
      "dtype: int64\n"
     ]
    }
   ],
   "source": [
    "#initial exploratory data analysis (EDA)\n",
    "print(df.head())\n",
    "print(df.info())\n",
    "print(df.describe())\n",
    "print(df.isnull().sum())"
   ]
  },
  {
   "cell_type": "code",
   "execution_count": 4,
   "metadata": {},
   "outputs": [],
   "source": [
    "#feature selection: choosing the features we want to use for the LDA model.\n",
    "selected_features = ['EducationLevel', 'Experience', 'OrgImpact', 'ProblemSolving', 'Supervision', 'ContactLevel', 'FinancialBudget']"
   ]
  },
  {
   "cell_type": "code",
   "execution_count": 5,
   "metadata": {},
   "outputs": [],
   "source": [
    "#spliting the data into training and testing sets.\n",
    "X = df[selected_features]\n",
    "y = df['PayGrade']\n",
    "\n",
    "X_train, X_test, y_train, y_test = train_test_split(X, y, test_size=0.2, random_state=42)"
   ]
  },
  {
   "cell_type": "code",
   "execution_count": 6,
   "metadata": {},
   "outputs": [],
   "source": [
    "#creatin an LDA model and fit it to the training data\n",
    "lda = LinearDiscriminantAnalysis(n_components=7)  # we can adjust the number of components as needed\n",
    "X_train_lda = lda.fit_transform(X_train, y_train)\n"
   ]
  },
  {
   "cell_type": "code",
   "execution_count": 7,
   "metadata": {},
   "outputs": [
    {
     "name": "stdout",
     "output_type": "stream",
     "text": [
      "Mean Absolute Error: 0.50 which means that on average our LDA regression model predictions are off by approximately 0.50 PayGrade units\n",
      "Mean Squared Error: 0.50 which means that on average the squared differences between our models predictions and the true PayGrade values are 0.50\n"
     ]
    }
   ],
   "source": [
    "# Evaluate the model (optional)\n",
    "X_test_lda = lda.transform(X_test)\n",
    "y_pred = lda.predict(X_test)\n",
    "\n",
    "mae = mean_absolute_error(y_test, y_pred)\n",
    "mse = mean_squared_error(y_test, y_pred)\n",
    "\n",
    "print(f'Mean Absolute Error: {mae:.2f} which means that on average our LDA regression model predictions are off by approximately {mae:.2f} PayGrade units')\n",
    "print(f'Mean Squared Error: {mse:.2f} which means that on average the squared differences between our models predictions and the true PayGrade values are {mse:.2f}')\n"
   ]
  },
  {
   "cell_type": "code",
   "execution_count": 8,
   "metadata": {},
   "outputs": [
    {
     "name": "stdout",
     "output_type": "stream",
     "text": [
      "Predicted PayGrade: 5.00\n"
     ]
    }
   ],
   "source": [
    "#Testing out our model with a new job description\n",
    "new_job = {\n",
    "    'EducationLevel': 3,\n",
    "    'Experience': 1,\n",
    "    'OrgImpact': 3,\n",
    "    'ProblemSolving': 3,\n",
    "    'Supervision': 4,\n",
    "    'ContactLevel': 3,\n",
    "    'FinancialBudget': 5\n",
    "}\n",
    "\n",
    "new_instance_df = pd.DataFrame(data=[new_job], columns=selected_features)\n",
    "\n",
    "predicted_paygrade = lda.predict(new_instance_df)\n",
    "print(f'Predicted PayGrade: {predicted_paygrade[0]:.2f}')"
   ]
  }
 ],
 "metadata": {
  "kernelspec": {
   "display_name": "Python 3",
   "language": "python",
   "name": "python3"
  },
  "language_info": {
   "codemirror_mode": {
    "name": "ipython",
    "version": 3
   },
   "file_extension": ".py",
   "mimetype": "text/x-python",
   "name": "python",
   "nbconvert_exporter": "python",
   "pygments_lexer": "ipython3",
   "version": "3.11.4"
  },
  "orig_nbformat": 4
 },
 "nbformat": 4,
 "nbformat_minor": 2
}
