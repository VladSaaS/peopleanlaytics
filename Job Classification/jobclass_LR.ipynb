{
 "cells": [
  {
   "cell_type": "markdown",
   "metadata": {},
   "source": [
    "#Job Classification using a Linear Regression model"
   ]
  },
  {
   "cell_type": "code",
   "execution_count": 123,
   "metadata": {},
   "outputs": [],
   "source": [
    "#importing all required libraries for this analysis\n",
    "import numpy as np\n",
    "import pandas as pd\n",
    "from sklearn.model_selection import train_test_split\n",
    "from sklearn.linear_model import LinearRegression\n",
    "from sklearn.metrics import mean_absolute_error, mean_squared_error, r2_score\n",
    "from sklearn.preprocessing import StandardScaler"
   ]
  },
  {
   "cell_type": "code",
   "execution_count": 124,
   "metadata": {},
   "outputs": [],
   "source": [
    "#loading the dataset into a python dataframe\n",
    "df = pd.read_csv('jobclassinfo2.csv')"
   ]
  },
  {
   "cell_type": "code",
   "execution_count": 125,
   "metadata": {},
   "outputs": [
    {
     "name": "stdout",
     "output_type": "stream",
     "text": [
      "   ID  JobFamily    JobFamilyDescription  JobClass JobClassDescription  \\\n",
      "0   1          1  Accounting And Finance         1        Accountant I   \n",
      "1   2          1  Accounting And Finance         2       Accountant II   \n",
      "2   3          1  Accounting And Finance         3      Accountant III   \n",
      "3   4          1  Accounting And Finance         4       Accountant IV   \n",
      "4   5          2  Administrative Support         5     Admin Support I   \n",
      "\n",
      "   PayGrade  EducationLevel  Experience  OrgImpact  ProblemSolving  \\\n",
      "0         5               3           1          3               3   \n",
      "1         6               4           1          5               4   \n",
      "2         8               4           2          6               5   \n",
      "3        10               5           5          6               6   \n",
      "4         1               1           0          1               1   \n",
      "\n",
      "   Supervision  ContactLevel  FinancialBudget    PG  \n",
      "0            4             3                5  PG05  \n",
      "1            5             7                7  PG06  \n",
      "2            6             7               10  PG08  \n",
      "3            7             8               11  PG10  \n",
      "4            1             1                1  PG01  \n",
      "<class 'pandas.core.frame.DataFrame'>\n",
      "RangeIndex: 66 entries, 0 to 65\n",
      "Data columns (total 14 columns):\n",
      " #   Column                Non-Null Count  Dtype \n",
      "---  ------                --------------  ----- \n",
      " 0   ID                    66 non-null     int64 \n",
      " 1   JobFamily             66 non-null     int64 \n",
      " 2   JobFamilyDescription  66 non-null     object\n",
      " 3   JobClass              66 non-null     int64 \n",
      " 4   JobClassDescription   66 non-null     object\n",
      " 5   PayGrade              66 non-null     int64 \n",
      " 6   EducationLevel        66 non-null     int64 \n",
      " 7   Experience            66 non-null     int64 \n",
      " 8   OrgImpact             66 non-null     int64 \n",
      " 9   ProblemSolving        66 non-null     int64 \n",
      " 10  Supervision           66 non-null     int64 \n",
      " 11  ContactLevel          66 non-null     int64 \n",
      " 12  FinancialBudget       66 non-null     int64 \n",
      " 13  PG                    66 non-null     object\n",
      "dtypes: int64(11), object(3)\n",
      "memory usage: 7.3+ KB\n",
      "None\n",
      "              ID  JobFamily   JobClass   PayGrade  EducationLevel  Experience  \\\n",
      "count  66.000000  66.000000  66.000000  66.000000       66.000000   66.000000   \n",
      "mean   33.500000   7.606061  33.500000   5.696970        3.166667    1.757576   \n",
      "std    19.196354   4.209436  19.196354   2.517445        1.525005    2.134411   \n",
      "min     1.000000   1.000000   1.000000   1.000000        1.000000    0.000000   \n",
      "25%    17.250000   4.000000  17.250000   4.000000        2.000000    0.000000   \n",
      "50%    33.500000   7.000000  33.500000   5.000000        4.000000    1.000000   \n",
      "75%    49.750000  11.000000  49.750000   8.000000        4.000000    2.750000   \n",
      "max    66.000000  15.000000  66.000000  10.000000        6.000000   10.000000   \n",
      "\n",
      "       OrgImpact  ProblemSolving  Supervision  ContactLevel  FinancialBudget  \n",
      "count  66.000000       66.000000    66.000000     66.000000        66.000000  \n",
      "mean    3.348485        3.606061     3.863636      4.757576         5.303030  \n",
      "std     1.767157        1.412894     2.104109      2.468638         3.525597  \n",
      "min     1.000000        1.000000     1.000000      1.000000         1.000000  \n",
      "25%     2.000000        3.000000     1.000000      3.000000         2.000000  \n",
      "50%     3.000000        4.000000     4.000000      6.000000         5.000000  \n",
      "75%     4.000000        5.000000     5.750000      7.000000         7.750000  \n",
      "max     6.000000        6.000000     7.000000      8.000000        11.000000  \n",
      "ID                      0\n",
      "JobFamily               0\n",
      "JobFamilyDescription    0\n",
      "JobClass                0\n",
      "JobClassDescription     0\n",
      "PayGrade                0\n",
      "EducationLevel          0\n",
      "Experience              0\n",
      "OrgImpact               0\n",
      "ProblemSolving          0\n",
      "Supervision             0\n",
      "ContactLevel            0\n",
      "FinancialBudget         0\n",
      "PG                      0\n",
      "dtype: int64\n"
     ]
    }
   ],
   "source": [
    "#initial exploratory data analysis (EDA)\n",
    "print(df.head())\n",
    "print(df.info())\n",
    "print(df.describe())\n",
    "print(df.isnull().sum())"
   ]
  },
  {
   "cell_type": "code",
   "execution_count": 126,
   "metadata": {},
   "outputs": [],
   "source": [
    "#feature selection: choosing the features we want to use for the LDA model.\n",
    "# Select features\n",
    "selected_features = ['EducationLevel', 'Experience', 'OrgImpact', 'ProblemSolving', 'Supervision', 'ContactLevel', 'FinancialBudget']\n",
    "# X = pd.DataFrame(data=df[selected_features], columns=selected_features) - keeping code here for now."
   ]
  },
  {
   "cell_type": "code",
   "execution_count": 127,
   "metadata": {},
   "outputs": [],
   "source": [
    "#splitting data into train and test sets.\n",
    "X = df[selected_features]\n",
    "y = df['PayGrade']\n",
    "\n",
    "X_train, X_test, y_train, y_test = train_test_split(X, y, test_size=0.2, random_state=42)"
   ]
  },
  {
   "cell_type": "code",
   "execution_count": 128,
   "metadata": {},
   "outputs": [
    {
     "data": {
      "text/html": [
       "<style>#sk-container-id-13 {color: black;}#sk-container-id-13 pre{padding: 0;}#sk-container-id-13 div.sk-toggleable {background-color: white;}#sk-container-id-13 label.sk-toggleable__label {cursor: pointer;display: block;width: 100%;margin-bottom: 0;padding: 0.3em;box-sizing: border-box;text-align: center;}#sk-container-id-13 label.sk-toggleable__label-arrow:before {content: \"▸\";float: left;margin-right: 0.25em;color: #696969;}#sk-container-id-13 label.sk-toggleable__label-arrow:hover:before {color: black;}#sk-container-id-13 div.sk-estimator:hover label.sk-toggleable__label-arrow:before {color: black;}#sk-container-id-13 div.sk-toggleable__content {max-height: 0;max-width: 0;overflow: hidden;text-align: left;background-color: #f0f8ff;}#sk-container-id-13 div.sk-toggleable__content pre {margin: 0.2em;color: black;border-radius: 0.25em;background-color: #f0f8ff;}#sk-container-id-13 input.sk-toggleable__control:checked~div.sk-toggleable__content {max-height: 200px;max-width: 100%;overflow: auto;}#sk-container-id-13 input.sk-toggleable__control:checked~label.sk-toggleable__label-arrow:before {content: \"▾\";}#sk-container-id-13 div.sk-estimator input.sk-toggleable__control:checked~label.sk-toggleable__label {background-color: #d4ebff;}#sk-container-id-13 div.sk-label input.sk-toggleable__control:checked~label.sk-toggleable__label {background-color: #d4ebff;}#sk-container-id-13 input.sk-hidden--visually {border: 0;clip: rect(1px 1px 1px 1px);clip: rect(1px, 1px, 1px, 1px);height: 1px;margin: -1px;overflow: hidden;padding: 0;position: absolute;width: 1px;}#sk-container-id-13 div.sk-estimator {font-family: monospace;background-color: #f0f8ff;border: 1px dotted black;border-radius: 0.25em;box-sizing: border-box;margin-bottom: 0.5em;}#sk-container-id-13 div.sk-estimator:hover {background-color: #d4ebff;}#sk-container-id-13 div.sk-parallel-item::after {content: \"\";width: 100%;border-bottom: 1px solid gray;flex-grow: 1;}#sk-container-id-13 div.sk-label:hover label.sk-toggleable__label {background-color: #d4ebff;}#sk-container-id-13 div.sk-serial::before {content: \"\";position: absolute;border-left: 1px solid gray;box-sizing: border-box;top: 0;bottom: 0;left: 50%;z-index: 0;}#sk-container-id-13 div.sk-serial {display: flex;flex-direction: column;align-items: center;background-color: white;padding-right: 0.2em;padding-left: 0.2em;position: relative;}#sk-container-id-13 div.sk-item {position: relative;z-index: 1;}#sk-container-id-13 div.sk-parallel {display: flex;align-items: stretch;justify-content: center;background-color: white;position: relative;}#sk-container-id-13 div.sk-item::before, #sk-container-id-13 div.sk-parallel-item::before {content: \"\";position: absolute;border-left: 1px solid gray;box-sizing: border-box;top: 0;bottom: 0;left: 50%;z-index: -1;}#sk-container-id-13 div.sk-parallel-item {display: flex;flex-direction: column;z-index: 1;position: relative;background-color: white;}#sk-container-id-13 div.sk-parallel-item:first-child::after {align-self: flex-end;width: 50%;}#sk-container-id-13 div.sk-parallel-item:last-child::after {align-self: flex-start;width: 50%;}#sk-container-id-13 div.sk-parallel-item:only-child::after {width: 0;}#sk-container-id-13 div.sk-dashed-wrapped {border: 1px dashed gray;margin: 0 0.4em 0.5em 0.4em;box-sizing: border-box;padding-bottom: 0.4em;background-color: white;}#sk-container-id-13 div.sk-label label {font-family: monospace;font-weight: bold;display: inline-block;line-height: 1.2em;}#sk-container-id-13 div.sk-label-container {text-align: center;}#sk-container-id-13 div.sk-container {/* jupyter's `normalize.less` sets `[hidden] { display: none; }` but bootstrap.min.css set `[hidden] { display: none !important; }` so we also need the `!important` here to be able to override the default hidden behavior on the sphinx rendered scikit-learn.org. See: https://github.com/scikit-learn/scikit-learn/issues/21755 */display: inline-block !important;position: relative;}#sk-container-id-13 div.sk-text-repr-fallback {display: none;}</style><div id=\"sk-container-id-13\" class=\"sk-top-container\"><div class=\"sk-text-repr-fallback\"><pre>LinearRegression()</pre><b>In a Jupyter environment, please rerun this cell to show the HTML representation or trust the notebook. <br />On GitHub, the HTML representation is unable to render, please try loading this page with nbviewer.org.</b></div><div class=\"sk-container\" hidden><div class=\"sk-item\"><div class=\"sk-estimator sk-toggleable\"><input class=\"sk-toggleable__control sk-hidden--visually\" id=\"sk-estimator-id-13\" type=\"checkbox\" checked><label for=\"sk-estimator-id-13\" class=\"sk-toggleable__label sk-toggleable__label-arrow\">LinearRegression</label><div class=\"sk-toggleable__content\"><pre>LinearRegression()</pre></div></div></div></div></div>"
      ],
      "text/plain": [
       "LinearRegression()"
      ]
     },
     "execution_count": 128,
     "metadata": {},
     "output_type": "execute_result"
    }
   ],
   "source": [
    "#creating and training the linear regression model.\n",
    "model = LinearRegression()\n",
    "model.fit(X_train, y_train)"
   ]
  },
  {
   "cell_type": "code",
   "execution_count": 129,
   "metadata": {},
   "outputs": [],
   "source": [
    "#using the trained model to make predictions on the test data.\n",
    "y_pred = model.predict(X_test)"
   ]
  },
  {
   "cell_type": "code",
   "execution_count": 130,
   "metadata": {},
   "outputs": [
    {
     "name": "stdout",
     "output_type": "stream",
     "text": [
      "Mean Absolute Error: 0.64\n",
      "Mean Squared Error: 0.83\n",
      "R-squared: 0.85\n"
     ]
    }
   ],
   "source": [
    "#evaluating the model's performance through selected metrics.\n",
    "#mean absolute error measures the average absolute difference between predicted and actual values\n",
    "#mean squared error measures the average squared difference between predicted and actual values\n",
    "#r-squared measures the proportion of the variance in the depended variable that is predicted from the independent variables. A higher r2 indicates a better fit.\n",
    "mae = mean_absolute_error(y_test, y_pred)\n",
    "mse = mean_squared_error(y_test, y_pred)\n",
    "r2 = r2_score(y_test, y_pred)\n",
    "\n",
    "print(f'Mean Absolute Error: {mae:.2f}')\n",
    "print(f'Mean Squared Error: {mse:.2f}')\n",
    "print(f'R-squared: {r2:.2f}')"
   ]
  },
  {
   "cell_type": "code",
   "execution_count": 131,
   "metadata": {},
   "outputs": [
    {
     "name": "stdout",
     "output_type": "stream",
     "text": [
      "Model Coefficients:\n",
      "EducationLevel: 0.23\n",
      "Experience: -0.03\n",
      "OrgImpact: 0.04\n",
      "ProblemSolving: 1.27\n",
      "Supervision: -0.16\n",
      "ContactLevel: -0.08\n",
      "FinancialBudget: 0.25\n",
      "Intercept: 0.08\n"
     ]
    }
   ],
   "source": [
    "# Access model coefficients (weights)\n",
    "coef = model.coef_\n",
    "intercept = model.intercept_\n",
    "\n",
    "print('Model Coefficients:')\n",
    "for feature, weight in zip(selected_features, coef):\n",
    "    print(f'{feature}: {weight:.2f}')\n",
    "\n",
    "print(f'Intercept: {intercept:.2f}')"
   ]
  },
  {
   "cell_type": "code",
   "execution_count": 132,
   "metadata": {},
   "outputs": [
    {
     "name": "stdout",
     "output_type": "stream",
     "text": [
      "Predicted PayGrade: 6.53\n"
     ]
    },
    {
     "name": "stderr",
     "output_type": "stream",
     "text": [
      "c:\\Python311\\Lib\\site-packages\\sklearn\\base.py:465: UserWarning: X does not have valid feature names, but LinearRegression was fitted with feature names\n",
      "  warnings.warn(\n"
     ]
    }
   ],
   "source": [
    "#using the model to predict the paygrade based on the features that we trained and tested on.\n",
    "# new_job = {\n",
    "#     'EducationLevel': 3,\n",
    "#     'Experience': 5,\n",
    "#     'OrgImpact': 2,\n",
    "#     'ProblemSolving': 4,\n",
    "#     'Supervision': 3,\n",
    "#     'ContactLevel': 6,\n",
    "#     'FinancialBudget': 7\n",
    "# }\n",
    "\n",
    "# Load the scaler used during training\n",
    "# scaler = StandardScaler()\n",
    "# scaler.fit(X_train)  # X_train is the training data without the target variable\n",
    "\n",
    "# Transform the new job description\n",
    "# new_job_array = scaler.transform([[new_job['EducationLevel'], new_job['Experience'], new_job['OrgImpact'], new_job['ProblemSolving'], new_job['Supervision'], new_job['ContactLevel'], new_job['FinancialBudget']]])\n",
    "\n",
    "predicted_paygrade = model.predict([[3, 5, 2, 4, 3, 6, 7]])\n",
    "\n",
    "print(f'Predicted PayGrade: {predicted_paygrade[0]:.2f}')"
   ]
  },
  {
   "cell_type": "markdown",
   "metadata": {},
   "source": [
    "This analysis is not yet complete."
   ]
  }
 ],
 "metadata": {
  "kernelspec": {
   "display_name": "Python 3",
   "language": "python",
   "name": "python3"
  },
  "language_info": {
   "codemirror_mode": {
    "name": "ipython",
    "version": 3
   },
   "file_extension": ".py",
   "mimetype": "text/x-python",
   "name": "python",
   "nbconvert_exporter": "python",
   "pygments_lexer": "ipython3",
   "version": "3.11.4"
  },
  "orig_nbformat": 4
 },
 "nbformat": 4,
 "nbformat_minor": 2
}
